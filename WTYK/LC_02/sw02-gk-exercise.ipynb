{
 "cells": [
  {
   "cell_type": "markdown",
   "id": "dd1f15f5",
   "metadata": {},
   "source": []
  },
  {
   "cell_type": "markdown",
   "id": "6641091f",
   "metadata": {},
   "source": [
    "### Dies ist meine Lösung, nicht die offizielle"
   ]
  },
  {
   "cell_type": "markdown",
   "id": "7b2c1451",
   "metadata": {},
   "source": [
    "##### Task 1 - Read CSV to a dataFrame"
   ]
  },
  {
   "cell_type": "code",
   "execution_count": 31,
   "id": "5dc5caeb",
   "metadata": {},
   "outputs": [
    {
     "data": {
      "text/html": [
       "<div>\n",
       "<style scoped>\n",
       "    .dataframe tbody tr th:only-of-type {\n",
       "        vertical-align: middle;\n",
       "    }\n",
       "\n",
       "    .dataframe tbody tr th {\n",
       "        vertical-align: top;\n",
       "    }\n",
       "\n",
       "    .dataframe thead th {\n",
       "        text-align: right;\n",
       "    }\n",
       "</style>\n",
       "<table border=\"1\" class=\"dataframe\">\n",
       "  <thead>\n",
       "    <tr style=\"text-align: right;\">\n",
       "      <th></th>\n",
       "      <th>date</th>\n",
       "      <th>currency_code</th>\n",
       "      <th>name</th>\n",
       "      <th>local_price</th>\n",
       "      <th>dollar_ex</th>\n",
       "      <th>dollar_price</th>\n",
       "    </tr>\n",
       "  </thead>\n",
       "  <tbody>\n",
       "    <tr>\n",
       "      <th>0</th>\n",
       "      <td>2000-04-01</td>\n",
       "      <td>ARS</td>\n",
       "      <td>Argentina</td>\n",
       "      <td>2.50</td>\n",
       "      <td>1</td>\n",
       "      <td>2.50</td>\n",
       "    </tr>\n",
       "    <tr>\n",
       "      <th>1</th>\n",
       "      <td>2000-04-01</td>\n",
       "      <td>AUD</td>\n",
       "      <td>Australia</td>\n",
       "      <td>2.59</td>\n",
       "      <td>1</td>\n",
       "      <td>2.59</td>\n",
       "    </tr>\n",
       "    <tr>\n",
       "      <th>2</th>\n",
       "      <td>2000-04-01</td>\n",
       "      <td>BRL</td>\n",
       "      <td>Brazil</td>\n",
       "      <td>2.95</td>\n",
       "      <td>1</td>\n",
       "      <td>2.95</td>\n",
       "    </tr>\n",
       "    <tr>\n",
       "      <th>3</th>\n",
       "      <td>2000-04-01</td>\n",
       "      <td>GBP</td>\n",
       "      <td>Britain</td>\n",
       "      <td>1.90</td>\n",
       "      <td>1</td>\n",
       "      <td>1.90</td>\n",
       "    </tr>\n",
       "    <tr>\n",
       "      <th>4</th>\n",
       "      <td>2000-04-01</td>\n",
       "      <td>CAD</td>\n",
       "      <td>Canada</td>\n",
       "      <td>2.85</td>\n",
       "      <td>1</td>\n",
       "      <td>2.85</td>\n",
       "    </tr>\n",
       "    <tr>\n",
       "      <th>...</th>\n",
       "      <td>...</td>\n",
       "      <td>...</td>\n",
       "      <td>...</td>\n",
       "      <td>...</td>\n",
       "      <td>...</td>\n",
       "      <td>...</td>\n",
       "    </tr>\n",
       "    <tr>\n",
       "      <th>1941</th>\n",
       "      <td>2022-07-01</td>\n",
       "      <td>AED</td>\n",
       "      <td>United Arab Emirates</td>\n",
       "      <td>18.00</td>\n",
       "      <td>3</td>\n",
       "      <td>6.00</td>\n",
       "    </tr>\n",
       "    <tr>\n",
       "      <th>1942</th>\n",
       "      <td>2022-07-01</td>\n",
       "      <td>USD</td>\n",
       "      <td>United States</td>\n",
       "      <td>5.15</td>\n",
       "      <td>1</td>\n",
       "      <td>5.15</td>\n",
       "    </tr>\n",
       "    <tr>\n",
       "      <th>1943</th>\n",
       "      <td>2022-07-01</td>\n",
       "      <td>UYU</td>\n",
       "      <td>Uruguay</td>\n",
       "      <td>255.00</td>\n",
       "      <td>41</td>\n",
       "      <td>6.22</td>\n",
       "    </tr>\n",
       "    <tr>\n",
       "      <th>1944</th>\n",
       "      <td>2022-07-01</td>\n",
       "      <td>VES</td>\n",
       "      <td>Venezuela</td>\n",
       "      <td>10.00</td>\n",
       "      <td>5</td>\n",
       "      <td>2.00</td>\n",
       "    </tr>\n",
       "    <tr>\n",
       "      <th>1945</th>\n",
       "      <td>2022-07-01</td>\n",
       "      <td>VND</td>\n",
       "      <td>Vietnam</td>\n",
       "      <td>69000.00</td>\n",
       "      <td>23417</td>\n",
       "      <td>2.95</td>\n",
       "    </tr>\n",
       "  </tbody>\n",
       "</table>\n",
       "<p>1946 rows × 6 columns</p>\n",
       "</div>"
      ],
      "text/plain": [
       "            date currency_code                  name  local_price  dollar_ex  \\\n",
       "0     2000-04-01           ARS             Argentina         2.50          1   \n",
       "1     2000-04-01           AUD             Australia         2.59          1   \n",
       "2     2000-04-01           BRL                Brazil         2.95          1   \n",
       "3     2000-04-01           GBP               Britain         1.90          1   \n",
       "4     2000-04-01           CAD                Canada         2.85          1   \n",
       "...          ...           ...                   ...          ...        ...   \n",
       "1941  2022-07-01           AED  United Arab Emirates        18.00          3   \n",
       "1942  2022-07-01           USD         United States         5.15          1   \n",
       "1943  2022-07-01           UYU               Uruguay       255.00         41   \n",
       "1944  2022-07-01           VES             Venezuela        10.00          5   \n",
       "1945  2022-07-01           VND               Vietnam     69000.00      23417   \n",
       "\n",
       "      dollar_price  \n",
       "0             2.50  \n",
       "1             2.59  \n",
       "2             2.95  \n",
       "3             1.90  \n",
       "4             2.85  \n",
       "...            ...  \n",
       "1941          6.00  \n",
       "1942          5.15  \n",
       "1943          6.22  \n",
       "1944          2.00  \n",
       "1945          2.95  \n",
       "\n",
       "[1946 rows x 6 columns]"
      ]
     },
     "execution_count": 31,
     "metadata": {},
     "output_type": "execute_result"
    }
   ],
   "source": [
    "import pandas as pd\n",
    "df = pd.read_csv(\"BigmacPrice.csv\")\n",
    "df"
   ]
  },
  {
   "cell_type": "markdown",
   "id": "f05695e2",
   "metadata": {},
   "source": [
    "##### Task 2 - Read Excel-File to dataFrame\n",
    "and get sum of eggs per breed/year\n",
    "and convert into a dict"
   ]
  },
  {
   "cell_type": "code",
   "execution_count": 22,
   "id": "a341b06f",
   "metadata": {},
   "outputs": [
    {
     "name": "stdout",
     "output_type": "stream",
     "text": [
      "{'Australorp': 5936, 'Barnevelder': 5624, 'ISA Brown': 3309, 'New Hampshire Red': 4887, 'Plymouth Rock': 5720}\n"
     ]
    }
   ],
   "source": [
    "import pandas as pd\n",
    "df = pd.read_excel(\"ChickenData.xlsx\")\n",
    "df_eggs_per_breed = df.groupby(\"breed\")[\"eggs_per_year\"].sum()\n",
    "df_dict = df_eggs_per_breed.to_dict()\n",
    "print(df_dict)"
   ]
  },
  {
   "cell_type": "markdown",
   "id": "8cd1a55e",
   "metadata": {},
   "source": [
    "##### Task 3 - Read CSV with explicit encoding"
   ]
  },
  {
   "cell_type": "code",
   "execution_count": null,
   "id": "26d86591",
   "metadata": {},
   "outputs": [
    {
     "ename": "TypeError",
     "evalue": "string indices must be integers, not 'str'",
     "output_type": "error",
     "traceback": [
      "\u001b[31m---------------------------------------------------------------------------\u001b[39m",
      "\u001b[31mTypeError\u001b[39m                                 Traceback (most recent call last)",
      "\u001b[36mCell\u001b[39m\u001b[36m \u001b[39m\u001b[32mIn[39]\u001b[39m\u001b[32m, line 9\u001b[39m\n\u001b[32m      7\u001b[39m \u001b[38;5;66;03m# Convert Prices to numeric, store it as Prices_numeric\u001b[39;00m\n\u001b[32m      8\u001b[39m \u001b[38;5;28;01mfor\u001b[39;00m car \u001b[38;5;129;01min\u001b[39;00m df:\n\u001b[32m----> \u001b[39m\u001b[32m9\u001b[39m     car[\u001b[33m\"\u001b[39m\u001b[33mPrices_numeric\u001b[39m\u001b[33m\"\u001b[39m] = re.sub(\u001b[33m\"\u001b[39m\u001b[33m(CHF | \u001b[39m\u001b[33m'\u001b[39m\u001b[33m | .-)\u001b[39m\u001b[33m\"\u001b[39m, \u001b[33m\"\u001b[39m\u001b[33ma\u001b[39m\u001b[33m\"\u001b[39m, \u001b[43mcar\u001b[49m\u001b[43m[\u001b[49m\u001b[33;43m\"\u001b[39;49m\u001b[33;43mPrice\u001b[39;49m\u001b[33;43m\"\u001b[39;49m\u001b[43m]\u001b[49m)\n\u001b[32m     11\u001b[39m df\n",
      "\u001b[31mTypeError\u001b[39m: string indices must be integers, not 'str'"
     ]
    }
   ],
   "source": [
    "import pandas as pd\n",
    "import re\n",
    "\n",
    "# Read Cars_autoscout24.csv to a pandas data frame\n",
    "df = pd.read_csv(\"Cars_autoscout24.csv\", sep=\";\", encoding=\"cp1252\")\n",
    "\n",
    "# Convert Prices to numeric, store it as Prices_numeric\n",
    "# TODO\n",
    "df"
   ]
  }
 ],
 "metadata": {
  "kernelspec": {
   "display_name": "Python 3",
   "language": "python",
   "name": "python3"
  },
  "language_info": {
   "codemirror_mode": {
    "name": "ipython",
    "version": 3
   },
   "file_extension": ".py",
   "mimetype": "text/x-python",
   "name": "python",
   "nbconvert_exporter": "python",
   "pygments_lexer": "ipython3",
   "version": "3.11.13"
  }
 },
 "nbformat": 4,
 "nbformat_minor": 5
}
